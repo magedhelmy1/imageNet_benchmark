{
 "cells": [
  {
   "cell_type": "code",
   "execution_count": 44,
   "metadata": {
    "execution": {
     "iopub.execute_input": "2020-05-07T12:44:14.158273Z",
     "iopub.status.busy": "2020-05-07T12:44:14.158273Z",
     "iopub.status.idle": "2020-05-07T12:44:14.163292Z",
     "shell.execute_reply": "2020-05-07T12:44:14.163292Z",
     "shell.execute_reply.started": "2020-05-07T12:44:14.158273Z"
    }
   },
   "outputs": [],
   "source": [
    "from __future__ import print_function\n",
    "\n",
    "from tensorflow.keras.datasets import mnist\n",
    "from tensorflow.keras.models import Sequential, Model\n",
    "from tensorflow.keras.layers import Dense, Dropout, Flatten, Conv2D, MaxPooling2D, Input\n",
    "from tensorflow.keras.callbacks import TensorBoard\n",
    "from tensorflow.keras.utils import to_categorical\n",
    "import datetime as datetime\n",
    "\n",
    "from IPython.core.interactiveshell import InteractiveShell\n",
    "InteractiveShell.ast_node_interactivity = \"all\"\n",
    "#%load_ext tensorboard"
   ]
  },
  {
   "cell_type": "code",
   "execution_count": 2,
   "metadata": {
    "execution": {
     "iopub.execute_input": "2020-05-07T12:07:47.391156Z",
     "iopub.status.busy": "2020-05-07T12:07:47.391156Z",
     "iopub.status.idle": "2020-05-07T12:07:47.622273Z",
     "shell.execute_reply": "2020-05-07T12:07:47.622273Z",
     "shell.execute_reply.started": "2020-05-07T12:07:47.391156Z"
    }
   },
   "outputs": [
    {
     "name": "stdout",
     "output_type": "stream",
     "text": [
      "(60000, 28, 28)\n"
     ]
    }
   ],
   "source": [
    "(x_train, y_train), (x_test, y_test) = mnist.load_data()\n",
    "\n",
    "print(x_train.shape)"
   ]
  },
  {
   "cell_type": "code",
   "execution_count": 3,
   "metadata": {
    "execution": {
     "iopub.execute_input": "2020-05-07T12:07:47.624267Z",
     "iopub.status.busy": "2020-05-07T12:07:47.623278Z",
     "iopub.status.idle": "2020-05-07T12:07:47.628257Z",
     "shell.execute_reply": "2020-05-07T12:07:47.628257Z",
     "shell.execute_reply.started": "2020-05-07T12:07:47.624267Z"
    }
   },
   "outputs": [],
   "source": [
    "img_rows, img_cols = 28, 28\n",
    "\n",
    "x_train_reshape = x_train.reshape(x_train.shape[0], img_rows, img_cols, 1)\n",
    "x_test_reshape = x_test.reshape(x_test.shape[0], img_rows, img_cols, 1)\n",
    "input_shape = (img_rows, img_cols, 1)"
   ]
  },
  {
   "cell_type": "code",
   "execution_count": 4,
   "metadata": {
    "execution": {
     "iopub.execute_input": "2020-05-07T12:07:47.630251Z",
     "iopub.status.busy": "2020-05-07T12:07:47.629254Z",
     "iopub.status.idle": "2020-05-07T12:07:47.753993Z",
     "shell.execute_reply": "2020-05-07T12:07:47.753993Z",
     "shell.execute_reply.started": "2020-05-07T12:07:47.630251Z"
    }
   },
   "outputs": [
    {
     "name": "stdout",
     "output_type": "stream",
     "text": [
      "x_train shape: (60000, 28, 28)\n",
      "60000 train samples\n",
      "10000 test samples\n"
     ]
    }
   ],
   "source": [
    "# input image dimensions\n",
    "x_train_reshape = x_train_reshape.astype('float32')\n",
    "x_test_reshape = x_test_reshape.astype('float32')\n",
    "\n",
    "x_train_reshape /= 255\n",
    "x_test_reshape /= 255\n",
    "\n",
    "print('x_train shape:', x_train.shape)\n",
    "print(x_train_reshape.shape[0], 'train samples')\n",
    "print(x_test_reshape.shape[0], 'test samples')"
   ]
  },
  {
   "cell_type": "code",
   "execution_count": 5,
   "metadata": {
    "execution": {
     "iopub.execute_input": "2020-05-07T12:07:47.755952Z",
     "iopub.status.busy": "2020-05-07T12:07:47.754954Z",
     "iopub.status.idle": "2020-05-07T12:07:47.760939Z",
     "shell.execute_reply": "2020-05-07T12:07:47.760939Z",
     "shell.execute_reply.started": "2020-05-07T12:07:47.754954Z"
    }
   },
   "outputs": [],
   "source": [
    "# convert class vectors to binary class matrices\n",
    "y_train = to_categorical(y_train, 10)\n",
    "y_test =to_categorical(y_test, 10)"
   ]
  },
  {
   "cell_type": "code",
   "execution_count": 6,
   "metadata": {
    "execution": {
     "iopub.execute_input": "2020-05-07T12:07:47.762933Z",
     "iopub.status.busy": "2020-05-07T12:07:47.762933Z",
     "iopub.status.idle": "2020-05-07T12:07:49.339133Z",
     "shell.execute_reply": "2020-05-07T12:07:49.339133Z",
     "shell.execute_reply.started": "2020-05-07T12:07:47.762933Z"
    }
   },
   "outputs": [],
   "source": [
    "model = Sequential()\n",
    "\n",
    "model.add(Conv2D(4, kernel_size=(3, 3),\n",
    "                 activation='relu',\n",
    "                 input_shape=input_shape,\n",
    "                 kernel_initializer='he_normal',))\n",
    "model.add(Flatten())\n",
    "model.add(Dense(10, activation='softmax'))\n",
    "\n",
    "model.compile(loss=\"categorical_crossentropy\",\n",
    "              optimizer=\"Adam\",\n",
    "              metrics=['accuracy'])"
   ]
  },
  {
   "cell_type": "code",
   "execution_count": 7,
   "metadata": {
    "execution": {
     "iopub.execute_input": "2020-05-07T12:07:49.340089Z",
     "iopub.status.busy": "2020-05-07T12:07:49.340089Z",
     "iopub.status.idle": "2020-05-07T12:07:49.343081Z",
     "shell.execute_reply": "2020-05-07T12:07:49.343081Z",
     "shell.execute_reply.started": "2020-05-07T12:07:49.340089Z"
    }
   },
   "outputs": [],
   "source": [
    "import os\n",
    "#logdir = os.path.join(\"logs\", datetime.datetime.now().strftime(\"%Y%m%d-%H%M%S\"))\n",
    "#tensorboard_callback = TensorBoard(logdir)"
   ]
  },
  {
   "cell_type": "code",
   "execution_count": 8,
   "metadata": {
    "execution": {
     "iopub.execute_input": "2020-05-07T12:07:49.344079Z",
     "iopub.status.busy": "2020-05-07T12:07:49.344079Z",
     "iopub.status.idle": "2020-05-07T12:08:23.409674Z",
     "shell.execute_reply": "2020-05-07T12:08:23.409674Z",
     "shell.execute_reply.started": "2020-05-07T12:07:49.344079Z"
    }
   },
   "outputs": [],
   "source": [
    "history= model.fit(x_train_reshape, y_train,\n",
    "          epochs=5,\n",
    "          validation_data=(x_test_reshape, y_test),\n",
    "          #callbacks=[tensorboard_callback]\n",
    "                  )\n",
    "\n",
    "# 8 minutes on GPU P1000\n",
    "# 2 minutes on 2080TX\n",
    "\n",
    "#val_accuracy: 0.9877"
   ]
  },
  {
   "cell_type": "code",
   "execution_count": 9,
   "metadata": {
    "execution": {
     "iopub.execute_input": "2020-05-07T12:08:23.412639Z",
     "iopub.status.busy": "2020-05-07T12:08:23.411642Z",
     "iopub.status.idle": "2020-05-07T12:08:24.305985Z",
     "shell.execute_reply": "2020-05-07T12:08:24.305985Z",
     "shell.execute_reply.started": "2020-05-07T12:08:23.412639Z"
    }
   },
   "outputs": [
    {
     "name": "stdout",
     "output_type": "stream",
     "text": [
      "Test loss: 0.07930519613893702\n",
      "Test accuracy: 0.9763\n"
     ]
    }
   ],
   "source": [
    "score = model.evaluate(x_test_reshape, y_test, verbose=0)\n",
    "print('Test loss:', score[0])\n",
    "print('Test accuracy:', score[1])"
   ]
  },
  {
   "cell_type": "code",
   "execution_count": 10,
   "metadata": {
    "execution": {
     "iopub.execute_input": "2020-05-07T12:08:24.306952Z",
     "iopub.status.busy": "2020-05-07T12:08:24.306952Z",
     "iopub.status.idle": "2020-05-07T12:08:24.309970Z",
     "shell.execute_reply": "2020-05-07T12:08:24.309970Z",
     "shell.execute_reply.started": "2020-05-07T12:08:24.306952Z"
    }
   },
   "outputs": [],
   "source": [
    "# Adam optimizer with he_normal:\n",
    "#Test loss: 0.03299637805730106\n",
    "#Test accuracy: 0.9916\n",
    "    \n",
    "# Adadelta with normal optimizer\n",
    "#Test loss: 0.3832157447218895\n",
    "#Test accuracy: 0.8958\n",
    "\n",
    "# Added model.add(Conv2D(128, (3, 3), activation='relu')) and remove dropout\n",
    "#Test loss: 0.04446429884471263\n",
    "#Test accuracy: 0.9915"
   ]
  },
  {
   "cell_type": "markdown",
   "metadata": {},
   "source": [
    "<h2> Visualize Layers</h2>"
   ]
  },
  {
   "cell_type": "code",
   "execution_count": 11,
   "metadata": {
    "execution": {
     "iopub.execute_input": "2020-05-07T12:08:24.310943Z",
     "iopub.status.busy": "2020-05-07T12:08:24.310943Z",
     "iopub.status.idle": "2020-05-07T12:08:24.317925Z",
     "shell.execute_reply": "2020-05-07T12:08:24.317925Z",
     "shell.execute_reply.started": "2020-05-07T12:08:24.310943Z"
    }
   },
   "outputs": [
    {
     "name": "stdout",
     "output_type": "stream",
     "text": [
      "Model: \"sequential\"\n",
      "_________________________________________________________________\n",
      "Layer (type)                 Output Shape              Param #   \n",
      "=================================================================\n",
      "conv2d (Conv2D)              (None, 26, 26, 4)         40        \n",
      "_________________________________________________________________\n",
      "flatten (Flatten)            (None, 2704)              0         \n",
      "_________________________________________________________________\n",
      "dense (Dense)                (None, 10)                27050     \n",
      "=================================================================\n",
      "Total params: 27,090\n",
      "Trainable params: 27,090\n",
      "Non-trainable params: 0\n",
      "_________________________________________________________________\n"
     ]
    }
   ],
   "source": [
    "model.summary()"
   ]
  },
  {
   "cell_type": "markdown",
   "metadata": {},
   "source": [
    "<h3> Visualizing Filters </h3>"
   ]
  },
  {
   "cell_type": "code",
   "execution_count": 12,
   "metadata": {
    "execution": {
     "iopub.execute_input": "2020-05-07T12:08:24.318921Z",
     "iopub.status.busy": "2020-05-07T12:08:24.318921Z",
     "iopub.status.idle": "2020-05-07T12:08:24.501465Z",
     "shell.execute_reply": "2020-05-07T12:08:24.501465Z",
     "shell.execute_reply.started": "2020-05-07T12:08:24.318921Z"
    }
   },
   "outputs": [
    {
     "name": "stdout",
     "output_type": "stream",
     "text": [
      "conv2d (3, 3, 1, 4)\n"
     ]
    }
   ],
   "source": [
    "import matplotlib.pyplot as plt\n",
    "\n",
    "for layer in model.layers:\n",
    "    if 'conv' not in layer.name:\n",
    "        continue\n",
    "    filters, biases = layer.get_weights()\n",
    "    print(layer.name, filters.shape)"
   ]
  },
  {
   "cell_type": "code",
   "execution_count": 13,
   "metadata": {
    "execution": {
     "iopub.execute_input": "2020-05-07T12:08:24.502435Z",
     "iopub.status.busy": "2020-05-07T12:08:24.502435Z",
     "iopub.status.idle": "2020-05-07T12:08:24.507417Z",
     "shell.execute_reply": "2020-05-07T12:08:24.507417Z",
     "shell.execute_reply.started": "2020-05-07T12:08:24.502435Z"
    }
   },
   "outputs": [],
   "source": [
    "# retrieve weights from the second hidden layer\n",
    "filters, biases = model.layers[0].get_weights()\n",
    "\n",
    "# normalize filter values to 0-1 so we can visualize them\n",
    "f_min, f_max = filters.min(), filters.max()\n",
    "filters = (filters - f_min) / (f_max - f_min)"
   ]
  },
  {
   "cell_type": "code",
   "execution_count": 31,
   "metadata": {
    "execution": {
     "iopub.execute_input": "2020-05-07T12:22:20.714189Z",
     "iopub.status.busy": "2020-05-07T12:22:20.713235Z",
     "iopub.status.idle": "2020-05-07T12:22:20.820907Z",
     "shell.execute_reply": "2020-05-07T12:22:20.820907Z",
     "shell.execute_reply.started": "2020-05-07T12:22:20.714189Z"
    }
   },
   "outputs": [
    {
     "name": "stdout",
     "output_type": "stream",
     "text": [
      "[[0.7750506  0.53913724 0.57423836]\n",
      " [0.37630397 0.59110487 0.42031157]\n",
      " [0.9130842  0.37720662 0.7296049 ]]\n",
      "[[0.36459357 0.05917275 0.36168453]\n",
      " [0.41668403 0.34181374 0.34818   ]\n",
      " [1.         0.9048992  0.6959408 ]]\n",
      "[[0.43702257 0.66277266 0.9778531 ]\n",
      " [0.         0.49252152 0.6406605 ]\n",
      " [0.28207758 0.41540638 0.65439725]]\n",
      "[[0.9243605  0.5385583  0.22624929]\n",
      " [0.71721864 0.2591453  0.37732616]\n",
      " [0.414233   0.11832368 0.7002774 ]]\n"
     ]
    },
    {
     "data": {
      "image/png": "[encoded data removed]",
      "text/plain": [
       "<Figure size 432x288 with 4 Axes>"
      ]
     },
     "metadata": {},
     "output_type": "display_data"
    }
   ],
   "source": [
    "# plot first few filters\n",
    "n_filters, ix = 4, 1\n",
    "for i in range(n_filters):\n",
    "    # get the filter\n",
    "    f = filters[:, :, :, i]\n",
    "    # plot each channel separately\n",
    "    for j in range(1):\n",
    "        # specify subplot and turn of axis\n",
    "        ax = plt.subplot(n_filters, 3, ix)\n",
    "        ax.set_xticks([])\n",
    "        ax.set_yticks([])\n",
    "        # plot filter channel in grayscale\n",
    "        print(f[:, :, j])\n",
    "        plt.imshow(f[:, :, j], cmap='gray')\n",
    "        ix += 1\n",
    "# show the figure\n",
    "plt.show()"
   ]
  },
  {
   "cell_type": "markdown",
   "metadata": {},
   "source": [
    "<h3> Visualizing Features Maps </h3>"
   ]
  },
  {
   "cell_type": "code",
   "execution_count": 15,
   "metadata": {
    "execution": {
     "iopub.execute_input": "2020-05-07T12:08:24.611140Z",
     "iopub.status.busy": "2020-05-07T12:08:24.611140Z",
     "iopub.status.idle": "2020-05-07T12:08:24.720882Z",
     "shell.execute_reply": "2020-05-07T12:08:24.720882Z",
     "shell.execute_reply.started": "2020-05-07T12:08:24.611140Z"
    }
   },
   "outputs": [
    {
     "data": {
      "text/plain": [
       "<matplotlib.image.AxesImage at 0x2d2b6f02e88>"
      ]
     },
     "execution_count": 15,
     "metadata": {},
     "output_type": "execute_result"
    },
    {
     "data": {
      "image/png": "[encoded data removed]",
      "text/plain": [
       "<Figure size 432x288 with 1 Axes>"
      ]
     },
     "metadata": {
      "needs_background": "light"
     },
     "output_type": "display_data"
    }
   ],
   "source": [
    "from tensorflow.keras.models import Model\n",
    "\n",
    "# Extract an image and visualize its value\n",
    "\n",
    "sample_mnsit = x_train[2]\n",
    "plt.imshow(sample_mnsit, cmap='gray')"
   ]
  },
  {
   "cell_type": "code",
   "execution_count": 16,
   "metadata": {
    "execution": {
     "iopub.execute_input": "2020-05-07T12:08:24.721843Z",
     "iopub.status.busy": "2020-05-07T12:08:24.721843Z",
     "iopub.status.idle": "2020-05-07T12:08:25.519359Z",
     "shell.execute_reply": "2020-05-07T12:08:25.519359Z",
     "shell.execute_reply.started": "2020-05-07T12:08:24.721843Z"
    }
   },
   "outputs": [
    {
     "data": {
      "image/png": "[encoded data removed]",
      "text/plain": [
       "<Figure size 1440x1440 with 4 Axes>"
      ]
     },
     "metadata": {},
     "output_type": "display_data"
    }
   ],
   "source": [
    "# fresh copy of image\n",
    "sample_mnsit = x_train[2]\n",
    "\n",
    "# Reshape to fit classifier\n",
    "sample_mnsit = sample_mnsit.reshape(1, img_rows, img_cols, 1)\n",
    "\n",
    "#Convert to flaot32\n",
    "sample_mnsit = sample_mnsit.astype('float32')\n",
    "\n",
    "# Normalizr features\n",
    "sample_mnsit /= 255\n",
    "\n",
    "# Input layer number you want to extract the feature maps from\n",
    "layer_no = 0\n",
    "\n",
    "# Get the filters from the first layer\n",
    "modified_model = Model(inputs=model.inputs, outputs=model.layers[layer_no].output)\n",
    "\n",
    "# Apply filters to image to get activation function\n",
    "feature_maps  = modified_model.predict(sample_mnsit)\n",
    "\n",
    "# Plot graph of each feature map\n",
    "nrows = int(feature_maps.shape[-1] / 2)\n",
    "ncols = 2\n",
    "fig, axs = plt.subplots(nrows,ncols, \n",
    "                        figsize=(20, 20), \n",
    "                        facecolor='w', \n",
    "                        edgecolor='k',\n",
    "                       )\n",
    "\n",
    "axs = axs.ravel()\n",
    "\n",
    "\n",
    "for i in range(feature_maps.shape[-1]):\n",
    "\n",
    "    axs[i].imshow(feature_maps[0, :, :, i], cmap='gray')\n",
    "\n",
    "plt.tight_layout(True)\n",
    "plt.show()"
   ]
  },
  {
   "cell_type": "code",
   "execution_count": 17,
   "metadata": {
    "execution": {
     "iopub.execute_input": "2020-05-07T12:08:25.520356Z",
     "iopub.status.busy": "2020-05-07T12:08:25.520356Z",
     "iopub.status.idle": "2020-05-07T12:08:26.749748Z",
     "shell.execute_reply": "2020-05-07T12:08:26.749748Z",
     "shell.execute_reply.started": "2020-05-07T12:08:25.520356Z"
    }
   },
   "outputs": [
    {
     "data": {
      "image/png": "[encoded data removed]",
      "text/plain": [
       "<Figure size 1440x1440 with 4 Axes>"
      ]
     },
     "metadata": {},
     "output_type": "display_data"
    }
   ],
   "source": [
    "import cv2, numpy as np\n",
    "from sklearn.cluster import KMeans\n",
    "\n",
    "# Get the top dominat colors by percentage\n",
    "def get_cluser(image):\n",
    "    reshape = image.reshape((image.shape[0] * image.shape[1], 1))\n",
    "    cluster = KMeans(n_clusters=5).fit(reshape)\n",
    "    \n",
    "    return cluster, cluster.cluster_centers_\n",
    "\n",
    "\n",
    "def visualize_colors(image):\n",
    "    \n",
    "    cluster, centroids = get_cluser(image)\n",
    "    # Get the number of different clusters, create histogram, and normalize\n",
    "    labels = np.arange(0, len(np.unique(cluster.labels_)) + 1)\n",
    "    (hist, _) = np.histogram(cluster.labels_, bins = labels)\n",
    "    hist = hist.astype(\"float\")\n",
    "    hist /= hist.sum()\n",
    "\n",
    "    # Create frequency rect and iterate through each cluster's color and percentage\n",
    "    colors = sorted([(percent, color) for (percent, color) in zip(hist, centroids)])\n",
    "    \n",
    "    return [percent*100 for (percent, color) in colors]\n",
    "        \n",
    "\n",
    "\n",
    "# Get the top 5 dominant color of the original image\n",
    "original_image = visualize_colors(x_train[2])\n",
    "\n",
    "# Get the top 5 dominant colors of the feature maps, subtract from original image\n",
    "# Get mean value of the 5 differnce \n",
    "\n",
    "mean_value_diff = []\n",
    "for x in range(feature_maps.shape[-1]):\n",
    "    feature_map = visualize_colors(feature_maps[0, :, :, x])\n",
    "    mean_value_diff.append(np.mean([np.abs(a_i - b_i) for a_i, b_i in zip(original_image, feature_map)]))\n",
    "    \n",
    "# values of sorted top feature maps\n",
    "top_similair_features_values= sorted(mean_value_diff)\n",
    "\n",
    "# index of sorted top feature maps with similiar value\n",
    "top_similair_features_index = sorted(range(len(mean_value_diff)), key=lambda k: mean_value_diff[k])\n",
    "\n",
    "\n",
    "# Plot top similiar features with original image\n",
    "fig, axs = plt.subplots(nrows,ncols, \n",
    "                        figsize=(20, 20), \n",
    "                        facecolor='w', \n",
    "                        edgecolor='k',\n",
    "                       )\n",
    "\n",
    "axs = axs.ravel()\n",
    "\n",
    "\n",
    "\n",
    "for i in range(feature_maps.shape[-1]):\n",
    "\n",
    "    axs[i].imshow(feature_maps[0, :, :, top_similair_features_index[i]], cmap='gray')\n",
    "    axs[i].text(0.5,-0.1, top_similair_features_values[i], size=12, ha=\"center\", \n",
    "             transform=axs[i].transAxes)\n",
    "plt.tight_layout(True)\n",
    "plt.show()\n"
   ]
  },
  {
   "cell_type": "markdown",
   "metadata": {},
   "source": [
    "<h2> Dropping weights </h2>"
   ]
  },
  {
   "cell_type": "code",
   "execution_count": 18,
   "metadata": {
    "execution": {
     "iopub.execute_input": "2020-05-07T12:08:26.750715Z",
     "iopub.status.busy": "2020-05-07T12:08:26.750715Z",
     "iopub.status.idle": "2020-05-07T12:08:40.234195Z",
     "shell.execute_reply": "2020-05-07T12:08:40.234195Z",
     "shell.execute_reply.started": "2020-05-07T12:08:26.750715Z"
    }
   },
   "outputs": [
    {
     "name": "stdout",
     "output_type": "stream",
     "text": [
      "Train on 60000 samples, validate on 10000 samples\n",
      "Epoch 1/2\n",
      "60000/60000 [==============================] - 7s 112us/sample - loss: 0.2570 - accuracy: 0.9287 - val_loss: 0.1278 - val_accuracy: 0.9653\n",
      "Epoch 2/2\n",
      "60000/60000 [==============================] - 7s 111us/sample - loss: 0.1047 - accuracy: 0.9703 - val_loss: 0.0867 - val_accuracy: 0.9727\n"
     ]
    }
   ],
   "source": [
    "# Check difference between methods\n",
    "\n",
    "model_1 = Sequential()\n",
    "\n",
    "model_1.add(Conv2D(4, kernel_size=(3, 3),\n",
    "                 activation='relu',\n",
    "                 input_shape=input_shape,\n",
    "                 kernel_initializer='he_normal',))\n",
    "model_1.add(Flatten())\n",
    "model_1.add(Dense(10, activation='softmax'))\n",
    "\n",
    "model_1.compile(loss=\"categorical_crossentropy\",\n",
    "              optimizer=\"Adam\",\n",
    "              metrics=['accuracy'])\n",
    "\n",
    "history= model_1.fit(x_train_reshape, y_train,\n",
    "          epochs=2,\n",
    "          verbose=1,\n",
    "          validation_data=(x_test_reshape, y_test)\n",
    "                  )"
   ]
  },
  {
   "cell_type": "code",
   "execution_count": 19,
   "metadata": {
    "execution": {
     "iopub.execute_input": "2020-05-07T12:08:40.235170Z",
     "iopub.status.busy": "2020-05-07T12:08:40.235170Z",
     "iopub.status.idle": "2020-05-07T12:08:40.246165Z",
     "shell.execute_reply": "2020-05-07T12:08:40.246165Z",
     "shell.execute_reply.started": "2020-05-07T12:08:40.235170Z"
    }
   },
   "outputs": [
    {
     "name": "stdout",
     "output_type": "stream",
     "text": [
      "Model: \"sequential_1\"\n",
      "_________________________________________________________________\n",
      "Layer (type)                 Output Shape              Param #   \n",
      "=================================================================\n",
      "conv2d_1 (Conv2D)            (None, 26, 26, 4)         40        \n",
      "_________________________________________________________________\n",
      "flatten_1 (Flatten)          (None, 2704)              0         \n",
      "_________________________________________________________________\n",
      "dense_1 (Dense)              (None, 10)                27050     \n",
      "=================================================================\n",
      "Total params: 27,090\n",
      "Trainable params: 27,090\n",
      "Non-trainable params: 0\n",
      "_________________________________________________________________\n"
     ]
    },
    {
     "data": {
      "text/plain": [
       "array([[[[ 0.0246798 ,  0.68256545, -0.07674746, -0.27381733]],\n",
       "\n",
       "        [[ 0.3173135 ,  0.45976427,  0.78195655,  0.5815066 ]],\n",
       "\n",
       "        [[-0.6267344 ,  0.31786913,  0.61426467,  0.02820551]]],\n",
       "\n",
       "\n",
       "       [[[ 0.5771654 , -0.00605238, -0.22293562, -0.6938624 ]],\n",
       "\n",
       "        [[ 0.23657872,  0.8744001 ,  0.6595918 ,  0.7121714 ]],\n",
       "\n",
       "        [[-0.68064797, -0.17075819,  0.20223878,  0.29966035]]],\n",
       "\n",
       "\n",
       "       [[[ 0.6843632 , -0.837781  , -1.8452342 ,  0.5654767 ]],\n",
       "\n",
       "        [[ 0.04136528, -1.0856606 , -0.28878975, -0.31093207]],\n",
       "\n",
       "        [[-0.7302251 , -1.3317246 , -0.26936993,  0.35323068]]]],\n",
       "      dtype=float32)"
      ]
     },
     "execution_count": 19,
     "metadata": {},
     "output_type": "execute_result"
    }
   ],
   "source": [
    "# use the following to get the parameters of the weights\n",
    "model_1.summary()\n",
    "model_1.layers[0].get_weights()\n",
    "model_1.get_weights()[0]"
   ]
  },
  {
   "cell_type": "code",
   "execution_count": 20,
   "metadata": {
    "execution": {
     "iopub.execute_input": "2020-05-07T12:08:40.247138Z",
     "iopub.status.busy": "2020-05-07T12:08:40.247138Z",
     "iopub.status.idle": "2020-05-07T12:08:40.254147Z",
     "shell.execute_reply": "2020-05-07T12:08:40.254147Z",
     "shell.execute_reply.started": "2020-05-07T12:08:40.247138Z"
    }
   },
   "outputs": [
    {
     "name": "stdout",
     "output_type": "stream",
     "text": [
      "[0.024679804, 0.3173135, -0.6267344] [0.5771654, 0.23657872, -0.68064797] [0.6843632, 0.041365277, -0.7302251]\n"
     ]
    }
   ],
   "source": [
    "weights, biases = model_1.layers[0].get_weights()\n",
    "column_one = [weights[0][x][0][0] for x in range(3)]\n",
    "column_two = [weights[1][x][0][0] for x in range(3)]\n",
    "column_three = [weights[2][x][0][0] for x in range(3)]\n",
    "\n",
    "print(column_one, column_two, column_three)"
   ]
  },
  {
   "cell_type": "code",
   "execution_count": 54,
   "metadata": {
    "execution": {
     "iopub.execute_input": "2020-05-07T12:56:07.649439Z",
     "iopub.status.busy": "2020-05-07T12:56:07.649439Z",
     "iopub.status.idle": "2020-05-07T12:56:07.656385Z",
     "shell.execute_reply": "2020-05-07T12:56:07.656385Z",
     "shell.execute_reply.started": "2020-05-07T12:56:07.649439Z"
    }
   },
   "outputs": [
    {
     "data": {
      "text/plain": [
       "(2704, 10)"
      ]
     },
     "execution_count": 54,
     "metadata": {},
     "output_type": "execute_result"
    },
    {
     "data": {
      "text/plain": [
       "array([ 0.00818329,  0.10721225, -0.00244643, -0.02630278,  0.00329733,\n",
       "        0.01418234, -0.0013324 ,  0.05549632, -0.10466073, -0.03631791],\n",
       "      dtype=float32)"
      ]
     },
     "execution_count": 54,
     "metadata": {},
     "output_type": "execute_result"
    }
   ],
   "source": [
    "w_2,b_2 = model_1.layers[2].get_weights()\n",
    "w_2.shape"
   ]
  },
  {
   "cell_type": "code",
   "execution_count": 55,
   "metadata": {
    "execution": {
     "iopub.execute_input": "2020-05-07T12:56:26.672320Z",
     "iopub.status.busy": "2020-05-07T12:56:26.671316Z",
     "iopub.status.idle": "2020-05-07T12:56:26.724142Z",
     "shell.execute_reply": "2020-05-07T12:56:26.723146Z",
     "shell.execute_reply.started": "2020-05-07T12:56:26.672320Z"
    }
   },
   "outputs": [
    {
     "name": "stdout",
     "output_type": "stream",
     "text": [
      "Model: \"model_1\"\n",
      "_________________________________________________________________\n",
      "Layer (type)                 Output Shape              Param #   \n",
      "=================================================================\n",
      "input_2 (InputLayer)         [(None, 28, 28, 1)]       0         \n",
      "_________________________________________________________________\n",
      "conv2d_3 (Conv2D)            (None, 26, 26, 3)         30        \n",
      "_________________________________________________________________\n",
      "flatten_2 (Flatten)          (None, 2028)              0         \n",
      "_________________________________________________________________\n",
      "dense_2 (Dense)              (None, 10)                20290     \n",
      "=================================================================\n",
      "Total params: 20,320\n",
      "Trainable params: 20,290\n",
      "Non-trainable params: 30\n",
      "_________________________________________________________________\n",
      "None\n"
     ]
    }
   ],
   "source": [
    "inp = Input((28,28,1))\n",
    "\n",
    "w,b = model_1.layers[0].get_weights()\n",
    "w = np.delete(w, [0], -1)\n",
    "b = np.delete(b, [0], 0)\n",
    "\n",
    "w_2,b_2 = model_1.layers[2].get_weights()\n",
    "w_2 = w[673:,:]\n",
    "\n",
    "\n",
    "new_c = Conv2D(3, kernel_size=(3, 3),\n",
    "               activation='relu',\n",
    "               kernel_initializer='he_normal',\n",
    "               trainable=False)\n",
    "f = Flatten()\n",
    "d = Dense(10, activation='softmax')\n",
    "\n",
    "x = new_c(inp)\n",
    "x = f(x)\n",
    "out = d(x) # -----> error!\n",
    "new_model= Model(inp, out)\n",
    "\n",
    "\n",
    "print(new_model.summary())"
   ]
  },
  {
   "cell_type": "code",
   "execution_count": 58,
   "metadata": {
    "execution": {
     "iopub.execute_input": "2020-05-07T12:58:31.202076Z",
     "iopub.status.busy": "2020-05-07T12:58:31.202076Z",
     "iopub.status.idle": "2020-05-07T12:58:31.237945Z",
     "shell.execute_reply": "2020-05-07T12:58:31.236948Z",
     "shell.execute_reply.started": "2020-05-07T12:58:31.202076Z"
    }
   },
   "outputs": [
    {
     "data": {
      "text/plain": [
       "array([[0.17335676, 0.11643948, 0.08077439, 0.08464293, 0.0559091 ,\n",
       "        0.10864144, 0.12323976, 0.06764838, 0.09025437, 0.09909347]],\n",
       "      dtype=float32)"
      ]
     },
     "execution_count": 58,
     "metadata": {},
     "output_type": "execute_result"
    }
   ],
   "source": [
    "#What is happening here?\n",
    "new_model.predict(sample_mnsit)"
   ]
  },
  {
   "cell_type": "code",
   "execution_count": null,
   "metadata": {},
   "outputs": [],
   "source": []
  }
 ],
 "metadata": {
  "kernelspec": {
   "display_name": "Python 3",
   "language": "python",
   "name": "python3"
  },
  "language_info": {
   "codemirror_mode": {
    "name": "ipython",
    "version": 3
   },
   "file_extension": ".py",
   "mimetype": "text/x-python",
   "name": "python",
   "nbconvert_exporter": "python",
   "pygments_lexer": "ipython3",
   "version": "3.7.6"
  }
 },
 "nbformat": 4,
 "nbformat_minor": 4
}
