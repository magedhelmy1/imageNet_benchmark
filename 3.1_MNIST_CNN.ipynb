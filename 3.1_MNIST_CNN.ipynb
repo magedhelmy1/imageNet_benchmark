{
 "cells": [
  {
   "cell_type": "code",
   "execution_count": 1,
   "metadata": {
    "execution": {
     "iopub.execute_input": "2020-05-06T15:19:35.330780Z",
     "iopub.status.busy": "2020-05-06T15:19:35.330624Z",
     "iopub.status.idle": "2020-05-06T15:19:37.930579Z",
     "shell.execute_reply": "2020-05-06T15:19:37.930579Z",
     "shell.execute_reply.started": "2020-05-06T15:19:35.330780Z"
    }
   },
   "outputs": [],
   "source": [
    "from __future__ import print_function\n",
    "\n",
    "from tensorflow.keras.datasets import mnist\n",
    "from tensorflow.keras.models import Sequential\n",
    "from tensorflow.keras.layers import Dense, Dropout, Flatten, Conv2D, MaxPooling2D\n",
    "from tensorflow.keras.callbacks import TensorBoard\n",
    "from tensorflow.keras.utils import to_categorical\n",
    "import datetime as datetime\n",
    "\n",
    "%load_ext tensorboard"
   ]
  },
  {
   "cell_type": "code",
   "execution_count": 2,
   "metadata": {
    "execution": {
     "iopub.execute_input": "2020-05-06T15:19:37.931557Z",
     "iopub.status.busy": "2020-05-06T15:19:37.931557Z",
     "iopub.status.idle": "2020-05-06T15:19:38.172743Z",
     "shell.execute_reply": "2020-05-06T15:19:38.172215Z",
     "shell.execute_reply.started": "2020-05-06T15:19:37.931557Z"
    }
   },
   "outputs": [
    {
     "name": "stdout",
     "output_type": "stream",
     "text": [
      "(60000, 28, 28)\n"
     ]
    }
   ],
   "source": [
    "(x_train, y_train), (x_test, y_test) = mnist.load_data()\n",
    "\n",
    "print(x_train.shape)"
   ]
  },
  {
   "cell_type": "code",
   "execution_count": 3,
   "metadata": {
    "execution": {
     "iopub.execute_input": "2020-05-06T15:19:38.174248Z",
     "iopub.status.busy": "2020-05-06T15:19:38.173456Z",
     "iopub.status.idle": "2020-05-06T15:19:38.178850Z",
     "shell.execute_reply": "2020-05-06T15:19:38.178089Z",
     "shell.execute_reply.started": "2020-05-06T15:19:38.174248Z"
    }
   },
   "outputs": [],
   "source": [
    "img_rows, img_cols = 28, 28\n",
    "\n",
    "x_train_reshape = x_train.reshape(x_train.shape[0], img_rows, img_cols, 1)\n",
    "x_test_reshape = x_test.reshape(x_test.shape[0], img_rows, img_cols, 1)\n",
    "input_shape = (img_rows, img_cols, 1)"
   ]
  },
  {
   "cell_type": "code",
   "execution_count": 4,
   "metadata": {
    "execution": {
     "iopub.execute_input": "2020-05-06T15:19:38.181230Z",
     "iopub.status.busy": "2020-05-06T15:19:38.180706Z",
     "iopub.status.idle": "2020-05-06T15:19:38.296447Z",
     "shell.execute_reply": "2020-05-06T15:19:38.295954Z",
     "shell.execute_reply.started": "2020-05-06T15:19:38.181147Z"
    }
   },
   "outputs": [
    {
     "name": "stdout",
     "output_type": "stream",
     "text": [
      "x_train shape: (60000, 28, 28)\n",
      "60000 train samples\n",
      "10000 test samples\n"
     ]
    }
   ],
   "source": [
    "# input image dimensions\n",
    "x_train_reshape = x_train_reshape.astype('float32')\n",
    "x_test_reshape = x_test_reshape.astype('float32')\n",
    "\n",
    "x_train_reshape /= 255\n",
    "x_test_reshape /= 255\n",
    "\n",
    "print('x_train shape:', x_train.shape)\n",
    "print(x_train_reshape.shape[0], 'train samples')\n",
    "print(x_test_reshape.shape[0], 'test samples')"
   ]
  },
  {
   "cell_type": "code",
   "execution_count": 5,
   "metadata": {
    "execution": {
     "iopub.execute_input": "2020-05-06T15:19:38.297603Z",
     "iopub.status.busy": "2020-05-06T15:19:38.297002Z",
     "iopub.status.idle": "2020-05-06T15:19:38.302938Z",
     "shell.execute_reply": "2020-05-06T15:19:38.302236Z",
     "shell.execute_reply.started": "2020-05-06T15:19:38.297603Z"
    }
   },
   "outputs": [],
   "source": [
    "# convert class vectors to binary class matrices\n",
    "y_train = to_categorical(y_train, 10)\n",
    "y_test =to_categorical(y_test, 10)"
   ]
  },
  {
   "cell_type": "code",
   "execution_count": 6,
   "metadata": {
    "execution": {
     "iopub.execute_input": "2020-05-06T15:19:38.303941Z",
     "iopub.status.busy": "2020-05-06T15:19:38.303941Z",
     "iopub.status.idle": "2020-05-06T15:19:39.884236Z",
     "shell.execute_reply": "2020-05-06T15:19:39.884236Z",
     "shell.execute_reply.started": "2020-05-06T15:19:38.303941Z"
    }
   },
   "outputs": [],
   "source": [
    "model = Sequential()\n",
    "\n",
    "model.add(Conv2D(4, kernel_size=(3, 3),\n",
    "                 activation='relu',\n",
    "                 input_shape=input_shape,\n",
    "                 kernel_initializer='he_normal',))\n",
    "model.add(Flatten())\n",
    "model.add(Dense(10, activation='softmax'))\n",
    "\n",
    "model.compile(loss=\"categorical_crossentropy\",\n",
    "              optimizer=\"Adam\",\n",
    "              metrics=['accuracy'])"
   ]
  },
  {
   "cell_type": "code",
   "execution_count": 7,
   "metadata": {
    "execution": {
     "iopub.execute_input": "2020-05-06T15:19:39.885230Z",
     "iopub.status.busy": "2020-05-06T15:19:39.885230Z",
     "iopub.status.idle": "2020-05-06T15:19:39.888286Z",
     "shell.execute_reply": "2020-05-06T15:19:39.888286Z",
     "shell.execute_reply.started": "2020-05-06T15:19:39.885230Z"
    }
   },
   "outputs": [],
   "source": [
    "import os\n",
    "#logdir = os.path.join(\"logs\", datetime.datetime.now().strftime(\"%Y%m%d-%H%M%S\"))\n",
    "#tensorboard_callback = TensorBoard(logdir)"
   ]
  },
  {
   "cell_type": "code",
   "execution_count": 8,
   "metadata": {
    "execution": {
     "iopub.execute_input": "2020-05-06T15:19:39.890217Z",
     "iopub.status.busy": "2020-05-06T15:19:39.890217Z",
     "iopub.status.idle": "2020-05-06T15:20:17.625885Z",
     "shell.execute_reply": "2020-05-06T15:20:17.625885Z",
     "shell.execute_reply.started": "2020-05-06T15:19:39.890217Z"
    }
   },
   "outputs": [
    {
     "name": "stdout",
     "output_type": "stream",
     "text": [
      "Train on 60000 samples, validate on 10000 samples\n",
      "Epoch 1/5\n",
      "60000/60000 [==============================] - 9s 158us/sample - loss: 0.2569 - accuracy: 0.9306 - val_loss: 0.1323 - val_accuracy: 0.9602\n",
      "Epoch 2/5\n",
      "60000/60000 [==============================] - 7s 116us/sample - loss: 0.1133 - accuracy: 0.9671 - val_loss: 0.0963 - val_accuracy: 0.9704\n",
      "Epoch 3/5\n",
      "60000/60000 [==============================] - 7s 116us/sample - loss: 0.0882 - accuracy: 0.9744 - val_loss: 0.0919 - val_accuracy: 0.9717\n",
      "Epoch 4/5\n",
      "60000/60000 [==============================] - 7s 118us/sample - loss: 0.0730 - accuracy: 0.9783 - val_loss: 0.0839 - val_accuracy: 0.9744\n",
      "Epoch 5/5\n",
      "60000/60000 [==============================] - 7s 120us/sample - loss: 0.0636 - accuracy: 0.9808 - val_loss: 0.0858 - val_accuracy: 0.9726\n"
     ]
    }
   ],
   "source": [
    "history= model.fit(x_train_reshape, y_train,\n",
    "          epochs=5,\n",
    "          verbose=1,\n",
    "          validation_data=(x_test_reshape, y_test),\n",
    "          #callbacks=[tensorboard_callback]\n",
    "                  )\n",
    "\n",
    "# 8 minutes on GPU P1000\n",
    "# 2 minutes on 2080TX\n",
    "\n",
    "#val_accuracy: 0.9877"
   ]
  },
  {
   "cell_type": "code",
   "execution_count": 9,
   "metadata": {
    "execution": {
     "iopub.execute_input": "2020-05-06T15:20:17.626854Z",
     "iopub.status.busy": "2020-05-06T15:20:17.626854Z",
     "iopub.status.idle": "2020-05-06T15:20:18.612330Z",
     "shell.execute_reply": "2020-05-06T15:20:18.612221Z",
     "shell.execute_reply.started": "2020-05-06T15:20:17.626854Z"
    }
   },
   "outputs": [
    {
     "name": "stdout",
     "output_type": "stream",
     "text": [
      "Test loss: 0.08579689360838383\n",
      "Test accuracy: 0.9726\n"
     ]
    }
   ],
   "source": [
    "score = model.evaluate(x_test_reshape, y_test, verbose=0)\n",
    "print('Test loss:', score[0])\n",
    "print('Test accuracy:', score[1])"
   ]
  },
  {
   "cell_type": "code",
   "execution_count": 10,
   "metadata": {
    "execution": {
     "iopub.execute_input": "2020-05-06T15:20:18.613221Z",
     "iopub.status.busy": "2020-05-06T15:20:18.613221Z",
     "iopub.status.idle": "2020-05-06T15:20:18.616822Z",
     "shell.execute_reply": "2020-05-06T15:20:18.616246Z",
     "shell.execute_reply.started": "2020-05-06T15:20:18.613221Z"
    }
   },
   "outputs": [],
   "source": [
    "# Adam optimizer with he_normal:\n",
    "#Test loss: 0.03299637805730106\n",
    "#Test accuracy: 0.9916\n",
    "    \n",
    "# Adadelta with normal optimizer\n",
    "#Test loss: 0.3832157447218895\n",
    "#Test accuracy: 0.8958\n",
    "\n",
    "# Added model.add(Conv2D(128, (3, 3), activation='relu')) and remove dropout\n",
    "#Test loss: 0.04446429884471263\n",
    "#Test accuracy: 0.9915"
   ]
  },
  {
   "cell_type": "markdown",
   "metadata": {},
   "source": [
    "<h2> Visualize Layers</h2>"
   ]
  },
  {
   "cell_type": "code",
   "execution_count": 11,
   "metadata": {
    "execution": {
     "iopub.execute_input": "2020-05-06T15:20:18.617905Z",
     "iopub.status.busy": "2020-05-06T15:20:18.617316Z",
     "iopub.status.idle": "2020-05-06T15:20:18.623657Z",
     "shell.execute_reply": "2020-05-06T15:20:18.623202Z",
     "shell.execute_reply.started": "2020-05-06T15:20:18.617869Z"
    }
   },
   "outputs": [
    {
     "name": "stdout",
     "output_type": "stream",
     "text": [
      "Model: \"sequential\"\n",
      "_________________________________________________________________\n",
      "Layer (type)                 Output Shape              Param #   \n",
      "=================================================================\n",
      "conv2d (Conv2D)              (None, 26, 26, 4)         40        \n",
      "_________________________________________________________________\n",
      "flatten (Flatten)            (None, 2704)              0         \n",
      "_________________________________________________________________\n",
      "dense (Dense)                (None, 10)                27050     \n",
      "=================================================================\n",
      "Total params: 27,090\n",
      "Trainable params: 27,090\n",
      "Non-trainable params: 0\n",
      "_________________________________________________________________\n"
     ]
    }
   ],
   "source": [
    "model.summary()"
   ]
  },
  {
   "cell_type": "markdown",
   "metadata": {},
   "source": [
    "<h3> Visualizing Filters </h3>"
   ]
  },
  {
   "cell_type": "code",
   "execution_count": 12,
   "metadata": {
    "execution": {
     "iopub.execute_input": "2020-05-06T15:20:18.624998Z",
     "iopub.status.busy": "2020-05-06T15:20:18.624831Z",
     "iopub.status.idle": "2020-05-06T15:20:18.857986Z",
     "shell.execute_reply": "2020-05-06T15:20:18.857986Z",
     "shell.execute_reply.started": "2020-05-06T15:20:18.624998Z"
    }
   },
   "outputs": [
    {
     "name": "stdout",
     "output_type": "stream",
     "text": [
      "conv2d (3, 3, 1, 4)\n"
     ]
    }
   ],
   "source": [
    "import matplotlib.pyplot as plt\n",
    "\n",
    "for layer in model.layers:\n",
    "    if 'conv' not in layer.name:\n",
    "        continue\n",
    "    filters, biases = layer.get_weights()\n",
    "    print(layer.name, filters.shape)"
   ]
  },
  {
   "cell_type": "code",
   "execution_count": 13,
   "metadata": {
    "execution": {
     "iopub.execute_input": "2020-05-06T15:20:18.859982Z",
     "iopub.status.busy": "2020-05-06T15:20:18.859652Z",
     "iopub.status.idle": "2020-05-06T15:20:18.866330Z",
     "shell.execute_reply": "2020-05-06T15:20:18.865503Z",
     "shell.execute_reply.started": "2020-05-06T15:20:18.859982Z"
    }
   },
   "outputs": [],
   "source": [
    "# retrieve weights from the second hidden layer\n",
    "filters, biases = model.layers[0].get_weights()\n",
    "\n",
    "# normalize filter values to 0-1 so we can visualize them\n",
    "f_min, f_max = filters.min(), filters.max()\n",
    "filters = (filters - f_min) / (f_max - f_min)"
   ]
  },
  {
   "cell_type": "code",
   "execution_count": 14,
   "metadata": {
    "execution": {
     "iopub.execute_input": "2020-05-06T15:20:18.867962Z",
     "iopub.status.busy": "2020-05-06T15:20:18.866963Z",
     "iopub.status.idle": "2020-05-06T15:20:18.955198Z",
     "shell.execute_reply": "2020-05-06T15:20:18.955198Z",
     "shell.execute_reply.started": "2020-05-06T15:20:18.867962Z"
    }
   },
   "outputs": [
    {
     "data": {
      "image/png": "[encoded data removed]",
      "text/plain": [
       "<Figure size 432x288 with 3 Axes>"
      ]
     },
     "metadata": {},
     "output_type": "display_data"
    }
   ],
   "source": [
    "# plot first few filters\n",
    "n_filters, ix = 3, 1\n",
    "for i in range(n_filters):\n",
    "    # get the filter\n",
    "    f = filters[:, :, :, i]\n",
    "    # plot each channel separately\n",
    "    for j in range(1):\n",
    "        # specify subplot and turn of axis\n",
    "        ax = plt.subplot(n_filters, 3, ix)\n",
    "        ax.set_xticks([])\n",
    "        ax.set_yticks([])\n",
    "        # plot filter channel in grayscale\n",
    "        plt.imshow(f[:, :, j], cmap='gray')\n",
    "        ix += 1\n",
    "# show the figure\n",
    "plt.show()"
   ]
  },
  {
   "cell_type": "markdown",
   "metadata": {},
   "source": [
    "<h3> Visualizing Features Maps </h3>"
   ]
  },
  {
   "cell_type": "code",
   "execution_count": 15,
   "metadata": {
    "execution": {
     "iopub.execute_input": "2020-05-06T15:20:18.956520Z",
     "iopub.status.busy": "2020-05-06T15:20:18.956520Z",
     "iopub.status.idle": "2020-05-06T15:20:19.069889Z",
     "shell.execute_reply": "2020-05-06T15:20:19.069889Z",
     "shell.execute_reply.started": "2020-05-06T15:20:18.956520Z"
    }
   },
   "outputs": [
    {
     "data": {
      "text/plain": [
       "<matplotlib.image.AxesImage at 0x1862277e488>"
      ]
     },
     "execution_count": 15,
     "metadata": {},
     "output_type": "execute_result"
    },
    {
     "data": {
      "image/png": "[encoded data removed]",
      "text/plain": [
       "<Figure size 432x288 with 1 Axes>"
      ]
     },
     "metadata": {
      "needs_background": "light"
     },
     "output_type": "display_data"
    }
   ],
   "source": [
    "from tensorflow.keras.models import Model\n",
    "\n",
    "# Extract an image and visualize its value\n",
    "\n",
    "sample_mnsit = x_train[2]\n",
    "plt.imshow(sample_mnsit, cmap='gray')"
   ]
  },
  {
   "cell_type": "code",
   "execution_count": 16,
   "metadata": {
    "execution": {
     "iopub.execute_input": "2020-05-06T15:20:19.070922Z",
     "iopub.status.busy": "2020-05-06T15:20:19.070922Z",
     "iopub.status.idle": "2020-05-06T15:20:19.900282Z",
     "shell.execute_reply": "2020-05-06T15:20:19.899683Z",
     "shell.execute_reply.started": "2020-05-06T15:20:19.070922Z"
    }
   },
   "outputs": [
    {
     "data": {
      "image/png": "[encoded data removed]",
      "text/plain": [
       "<Figure size 1440x1440 with 4 Axes>"
      ]
     },
     "metadata": {},
     "output_type": "display_data"
    }
   ],
   "source": [
    "# fresh copy of image\n",
    "sample_mnsit = x_train[2]\n",
    "\n",
    "# Reshape to fit classifier\n",
    "sample_mnsit = sample_mnsit.reshape(1, img_rows, img_cols, 1)\n",
    "\n",
    "#Convert to flaot32\n",
    "sample_mnsit = sample_mnsit.astype('float32')\n",
    "\n",
    "# Normalizr features\n",
    "sample_mnsit /= 255\n",
    "\n",
    "# Input layer number you want to extract the feature maps from\n",
    "layer_no = 0\n",
    "\n",
    "# Get the filters from the first layer\n",
    "modified_model = Model(inputs=model.inputs, outputs=model.layers[layer_no].output)\n",
    "\n",
    "# Apply filters to image to get activation function\n",
    "feature_maps  = modified_model.predict(sample_mnsit)\n",
    "\n",
    "# Plot graph of each feature map\n",
    "nrows = int(feature_maps.shape[-1] / 2)\n",
    "ncols = 2\n",
    "fig, axs = plt.subplots(nrows,ncols, \n",
    "                        figsize=(20, 20), \n",
    "                        facecolor='w', \n",
    "                        edgecolor='k',\n",
    "                       )\n",
    "\n",
    "axs = axs.ravel()\n",
    "\n",
    "\n",
    "for i in range(feature_maps.shape[-1]):\n",
    "\n",
    "    axs[i].imshow(feature_maps[0, :, :, i], cmap='gray')\n",
    "\n",
    "plt.tight_layout(True)\n",
    "plt.show()"
   ]
  },
  {
   "cell_type": "code",
   "execution_count": 17,
   "metadata": {
    "execution": {
     "iopub.execute_input": "2020-05-06T15:20:19.901218Z",
     "iopub.status.busy": "2020-05-06T15:20:19.900636Z",
     "iopub.status.idle": "2020-05-06T15:20:21.265392Z",
     "shell.execute_reply": "2020-05-06T15:20:21.264771Z",
     "shell.execute_reply.started": "2020-05-06T15:20:19.900636Z"
    }
   },
   "outputs": [
    {
     "data": {
      "image/png": "[encoded data removed]",
      "text/plain": [
       "<Figure size 1440x1440 with 4 Axes>"
      ]
     },
     "metadata": {},
     "output_type": "display_data"
    }
   ],
   "source": [
    "import cv2, numpy as np\n",
    "from sklearn.cluster import KMeans\n",
    "\n",
    "# Get the top dominat colors by percentage\n",
    "def get_cluser(image):\n",
    "    reshape = image.reshape((image.shape[0] * image.shape[1], 1))\n",
    "    cluster = KMeans(n_clusters=5).fit(reshape)\n",
    "    \n",
    "    return cluster, cluster.cluster_centers_\n",
    "\n",
    "\n",
    "def visualize_colors(image):\n",
    "    \n",
    "    cluster, centroids = get_cluser(image)\n",
    "    # Get the number of different clusters, create histogram, and normalize\n",
    "    labels = np.arange(0, len(np.unique(cluster.labels_)) + 1)\n",
    "    (hist, _) = np.histogram(cluster.labels_, bins = labels)\n",
    "    hist = hist.astype(\"float\")\n",
    "    hist /= hist.sum()\n",
    "\n",
    "    # Create frequency rect and iterate through each cluster's color and percentage\n",
    "    colors = sorted([(percent, color) for (percent, color) in zip(hist, centroids)])\n",
    "    \n",
    "    return [percent*100 for (percent, color) in colors]\n",
    "        \n",
    "\n",
    "\n",
    "# Get the top 5 dominant color of the original image\n",
    "original_image = visualize_colors(x_train[2])\n",
    "\n",
    "# Get the top 5 dominant colors of the feature maps, subtract from original image\n",
    "# Get mean value of the 5 differnce \n",
    "\n",
    "mean_value_diff = []\n",
    "for x in range(feature_maps.shape[-1]):\n",
    "    feature_map = visualize_colors(feature_maps[0, :, :, x])\n",
    "    mean_value_diff.append(np.mean([np.abs(a_i - b_i) for a_i, b_i in zip(original_image, feature_map)]))\n",
    "    \n",
    "# values of sorted top feature maps\n",
    "top_similair_features_values= sorted(mean_value_diff)\n",
    "\n",
    "# index of sorted top feature maps with similiar value\n",
    "top_similair_features_index = sorted(range(len(mean_value_diff)), key=lambda k: mean_value_diff[k])\n",
    "\n",
    "\n",
    "# Plot top similiar features with original image\n",
    "fig, axs = plt.subplots(nrows,ncols, \n",
    "                        figsize=(20, 20), \n",
    "                        facecolor='w', \n",
    "                        edgecolor='k',\n",
    "                       )\n",
    "\n",
    "axs = axs.ravel()\n",
    "\n",
    "\n",
    "\n",
    "for i in range(feature_maps.shape[-1]):\n",
    "\n",
    "    axs[i].imshow(feature_maps[0, :, :, top_similair_features_index[i]], cmap='gray')\n",
    "    axs[i].text(0.5,-0.1, top_similair_features_values[i], size=12, ha=\"center\", \n",
    "             transform=axs[i].transAxes)\n",
    "plt.tight_layout(True)\n",
    "plt.show()\n"
   ]
  },
  {
   "cell_type": "code",
   "execution_count": null,
   "metadata": {},
   "outputs": [],
   "source": []
  }
 ],
 "metadata": {
  "kernelspec": {
   "display_name": "Python 3",
   "language": "python",
   "name": "python3"
  },
  "language_info": {
   "codemirror_mode": {
    "name": "ipython",
    "version": 3
   },
   "file_extension": ".py",
   "mimetype": "text/x-python",
   "name": "python",
   "nbconvert_exporter": "python",
   "pygments_lexer": "ipython3",
   "version": "3.7.6"
  }
 },
 "nbformat": 4,
 "nbformat_minor": 4
}
