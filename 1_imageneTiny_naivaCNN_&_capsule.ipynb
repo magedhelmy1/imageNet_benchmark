{
 "cells": [
  {
   "cell_type": "code",
   "execution_count": 1,
   "metadata": {},
   "outputs": [
    {
     "data": {
      "text/plain": [
       "'\\n1- Implement a naive CNN on the imagenet data\\n2- Implement Capsules\\n'"
      ]
     },
     "execution_count": 1,
     "metadata": {},
     "output_type": "execute_result"
    }
   ],
   "source": [
    "#TO DO\n",
    "\n",
    "\"\"\"\n",
    "1- Implement a naive CNN on the imagenet data\n",
    "2- Implement Capsules\n",
    "\n",
    "Other info:\n",
    "Stanford prepared the Tiny ImageNet dataset for their CS231n course. \n",
    "The dataset spans 200 image classes with 500 training examples per class. \n",
    "The dataset also has 50 validation and 50 test examples per class.\n",
    "\n",
    "\"\"\""
   ]
  },
  {
   "cell_type": "code",
   "execution_count": 2,
   "metadata": {},
   "outputs": [],
   "source": [
    "import tensorflow as tf\n",
    "from tensorflow.keras.preprocessing.image import ImageDataGenerator\n",
    "import matplotlib.pyplot as plt"
   ]
  },
  {
   "cell_type": "code",
   "execution_count": 3,
   "metadata": {},
   "outputs": [
    {
     "name": "stdout",
     "output_type": "stream",
     "text": [
      "Found 100000 images belonging to 200 classes.\n"
     ]
    }
   ],
   "source": [
    "train_datagen = ImageDataGenerator()\n",
    "\n",
    "train_generator = train_datagen.flow_from_directory('tiny-imagenet-200/tiny-imagenet-200/train/', \n",
    "                                                    target_size=(32, 32), \n",
    "                                                    color_mode='rgb', \n",
    "                                                    batch_size=256, \n",
    "                                                    class_mode='categorical', \n",
    "                                                    shuffle=True, \n",
    "                                                    seed=42)"
   ]
  },
  {
   "cell_type": "code",
   "execution_count": null,
   "metadata": {},
   "outputs": [],
   "source": [
    "valid_datagen  = ImageDataGenerator()\n",
    "\n",
    "validation_generator = valid_datagen.flow_from_dataframe(val_data, \n",
    "                                                         directory='./tiny-imagenet-200/val/images/', \n",
    "                                                         x_col='File', \n",
    "                                                         y_col='Class', \n",
    "                                                         target_size=(32, 32),\n",
    "                                                         color_mode='rgb', \n",
    "                                                         class_mode='categorical', \n",
    "                                                         batch_size=256, \n",
    "                                                         shuffle=True, \n",
    "                                                         seed=42)"
   ]
  },
  {
   "cell_type": "code",
   "execution_count": null,
   "metadata": {},
   "outputs": [],
   "source": []
  }
 ],
 "metadata": {
  "kernelspec": {
   "display_name": "Python 3",
   "language": "python",
   "name": "python3"
  },
  "language_info": {
   "codemirror_mode": {
    "name": "ipython",
    "version": 3
   },
   "file_extension": ".py",
   "mimetype": "text/x-python",
   "name": "python",
   "nbconvert_exporter": "python",
   "pygments_lexer": "ipython3",
   "version": "3.7.6"
  }
 },
 "nbformat": 4,
 "nbformat_minor": 4
}
